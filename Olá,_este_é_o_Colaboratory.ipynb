{
  "cells": [
    {
      "cell_type": "markdown",
      "metadata": {
        "id": "view-in-github",
        "colab_type": "text"
      },
      "source": [
        "<a href=\"https://colab.research.google.com/github/Lucas-Santos7/Aluno-Git/blob/main/Ol%C3%A1%2C_este_%C3%A9_o_Colaboratory.ipynb\" target=\"_parent\"><img src=\"https://colab.research.google.com/assets/colab-badge.svg\" alt=\"Open In Colab\"/></a>"
      ]
    },
    {
      "cell_type": "code",
      "source": [
        "num1 = int(input('digite um numero:'))\n",
        "num2 = int(input('digite um numero:'))\n",
        "\n",
        "if (num1>num2):\n",
        "  print(f'o numero {num1} e maior q o numero {num2}')\n",
        "else: print(f'o numero {num2} e maior que o numero {num1}')"
      ],
      "metadata": {
        "id": "M_vBeEUABBvk",
        "outputId": "a7143edb-62e2-4921-d6f4-53d5539e638b",
        "colab": {
          "base_uri": "https://localhost:8080/"
        }
      },
      "execution_count": 6,
      "outputs": [
        {
          "output_type": "stream",
          "name": "stdout",
          "text": [
            "digite um numero:458416\n",
            "digite um numero:5151\n",
            "o numero 458416 e maior q o numero 5151\n"
          ]
        }
      ]
    },
    {
      "cell_type": "code",
      "source": [
        "import random\n",
        "\n",
        "bot = random.randint(1,10)\n",
        "\n",
        "cont = 0\n",
        "\n",
        "while True:\n",
        "  escolha = int(input('quer par ou impar. O IMPAR E 1 E O PAR E 2:'))\n",
        "  eu = int(input('digite um numero de 1 a 10:'))\n",
        "  if escolha != 1 and escolha != 2:\n",
        "    print('voce digitou errado. digite novamente')\n",
        "    continue\n",
        "  if eu < 1 or eu > 10:\n",
        "    print('voce digitou errado. digite novamente')\n",
        "    continue\n",
        "  if escolha == 1:\n",
        "      if (bot % 2 != 0 and eu % 2 == 0) or (eu % 2 != 0 and bot % 2 == 0):\n",
        "        print(f'voce escolheu impar e o bot jogou {bot} e voce jogou {eu}. voce venceu')\n",
        "        cont +=1\n",
        "  if escolha == 2:\n",
        "      if (bot % 2 == 0 and eu % 2 == 0) or (bot % 2 !=0 and eu % 2 != 0):\n",
        "        print(f'voce escolheu par e o bot jogou {bot} e voce jogou {eu}. voce venceu')\n",
        "        cont +=1\n",
        "else:print(f'voce perdeu. voce ganhou {cont} vezes do bot')"
      ],
      "metadata": {
        "colab": {
          "base_uri": "https://localhost:8080/"
        },
        "id": "iaMprdlfCffN",
        "outputId": "306aae48-e8c4-4b0a-fe2e-04889b445e02"
      },
      "execution_count": null,
      "outputs": [
        {
          "output_type": "stream",
          "name": "stdout",
          "text": [
            "quer par ou impar. O IMPAR E 1 E O PAR E 2:1\n",
            "digite um numero de 1 a 10:3\n",
            "voce escolheu impar e o bot jogou 8 e voce jogou 3. voce venceu\n"
          ]
        }
      ]
    },
    {
      "cell_type": "markdown",
      "source": [
        "# Nova seção"
      ],
      "metadata": {
        "id": "2DUE18I6H21-"
      }
    },
    {
      "cell_type": "code",
      "source": [],
      "metadata": {
        "id": "7PVdienoH6u1"
      },
      "execution_count": null,
      "outputs": []
    },
    {
      "cell_type": "code",
      "source": [
        "maça1 = 1.30\n",
        "\n",
        "compras = int(input('digite o valor do numero de maças que voce comprou:'))\n",
        "if compras <= 12:\n",
        "  result = maça1 * compras\n",
        "  print(f'voce comprou {compras} e o valor da sua compra foi: {result:.2f}')\n",
        "elif compras > 12:\n",
        "  resultado = 0.30 * compras\n",
        "  print(resultado)\n",
        "  resultado2 = maça1 * compras\n",
        "  print(resultado2)\n",
        "  resultado_final = resultado2 - resultado\n",
        "  print(f'voce comprou {compras} e o valor final da sua compra foi: {resultado_final:.2f}')"
      ],
      "metadata": {
        "id": "YuF_K7DTH3st",
        "outputId": "68686ab4-95f3-4abd-eb7b-01054d3b1632",
        "colab": {
          "base_uri": "https://localhost:8080/"
        }
      },
      "execution_count": 53,
      "outputs": [
        {
          "output_type": "stream",
          "name": "stdout",
          "text": [
            "digite o valor do numero de maças que voce comprou:13\n",
            "3.9\n",
            "16.900000000000002\n",
            "voce comprou 13 e o valor final da sua compra foi: 13.000000000000002\n"
          ]
        }
      ]
    },
    {
      "cell_type": "markdown",
      "source": [
        "# Nova seção"
      ],
      "metadata": {
        "id": "0VL-01coJzxw"
      }
    },
    {
      "cell_type": "code",
      "source": [
        "maca = int(input('digite o numero de maças que voce quer comprar:'))\n",
        "\n",
        "if maca <= 12:\n",
        "  print(f'voce comprou {maca} e o valor da sua compra foi: {maca * 1.30:.2f}')\n",
        "\n",
        "else: print(f'voce comprou {maca} e o valor da sua foi: {maca * 1.00}')"
      ],
      "metadata": {
        "id": "B5Ic0lg4J0UN",
        "outputId": "57fed5b7-bc38-4012-cd93-914e82c5e1ad",
        "colab": {
          "base_uri": "https://localhost:8080/"
        }
      },
      "execution_count": 43,
      "outputs": [
        {
          "output_type": "stream",
          "name": "stdout",
          "text": [
            "digite o numero de maças que voce quer comprar:12\n",
            "voce comprou 12 e o valor da sua compra foi: 15.60\n"
          ]
        }
      ]
    },
    {
      "cell_type": "code",
      "source": [
        "n1 = float(input('digite um numero:'))\n",
        "n2 = float(input('digite um numero:'))\n",
        "media = (n1 + n2) / 2\n",
        "\n",
        "if media > 7.0:\n",
        "  print('aprovado')\n",
        "if media < 4.0:\n",
        "  print('reprovado')\n",
        "if media >= 4.0:\n",
        "    print('voce esta de recuperação')"
      ],
      "metadata": {
        "id": "w9vM9Mx4OmBA",
        "outputId": "fc0fe0f8-1699-48a5-f060-28de7230e695",
        "colab": {
          "base_uri": "https://localhost:8080/"
        }
      },
      "execution_count": 66,
      "outputs": [
        {
          "output_type": "stream",
          "name": "stdout",
          "text": [
            "digite um numero:4\n",
            "digite um numero:2\n",
            "reprovado\n"
          ]
        }
      ]
    },
    {
      "cell_type": "code",
      "source": [
        "num = int(input('digite um numero:'))\n",
        "\n",
        "if num % 2 == 0:\n",
        "  print(f'o numero {num} e par')\n",
        "if num % 2 != 0:\n",
        "  print(f'o numero {num} e impar')"
      ],
      "metadata": {
        "id": "vQ-DpgGQVCE5",
        "outputId": "5f234af9-3bdc-41d4-dfdb-6c1edabaa8f9",
        "colab": {
          "base_uri": "https://localhost:8080/"
        }
      },
      "execution_count": 75,
      "outputs": [
        {
          "output_type": "stream",
          "name": "stdout",
          "text": [
            "digite um numero:7\n",
            "o numero 7 e impar\n"
          ]
        }
      ]
    },
    {
      "cell_type": "code",
      "source": [
        "for cont in range (1,22):\n",
        "  print(f\"{cont} - LUCAS\")"
      ],
      "metadata": {
        "id": "9gACa27RY1lB"
      },
      "execution_count": null,
      "outputs": []
    }
  ],
  "metadata": {
    "colab": {
      "name": "Olá, este é o Colaboratory",
      "toc_visible": true,
      "provenance": [],
      "include_colab_link": true
    },
    "kernelspec": {
      "display_name": "Python 3",
      "name": "python3"
    }
  },
  "nbformat": 4,
  "nbformat_minor": 0
}